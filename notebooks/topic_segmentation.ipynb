{
 "cells": [
  {
   "cell_type": "code",
   "execution_count": 6,
   "metadata": {},
   "outputs": [],
   "source": [
    "%reload_ext autoreload\n",
    "%autoreload 2\n",
    "\n",
    "import sys\n",
    "import os\n",
    "\n",
    "SRC_SUBDIR = '../'\n",
    "SRC_SUBDIR = os.path.abspath(SRC_SUBDIR)\n",
    "if SRC_SUBDIR not in sys.path:\n",
    "    print(f'Adding source directory to the sys.path: {SRC_SUBDIR!r}')\n",
    "    sys.path.insert(1, SRC_SUBDIR)"
   ]
  },
  {
   "cell_type": "code",
   "execution_count": 7,
   "metadata": {},
   "outputs": [
    {
     "name": "stdout",
     "output_type": "stream",
     "text": [
      "Looking in indexes: https://pypi.org/simple, https://download.pytorch.org/whl/cu118\n",
      "Requirement already satisfied: numpy==1.26.4 in c:\\users\\sonis\\anaconda3\\envs\\vihave-summarizer\\lib\\site-packages (from -r d:\\Work\\Job_Hunt\\Vihave.ai\\meeting-transcript-summarization/requirements.txt (line 1)) (1.26.4)\n",
      "Requirement already satisfied: torch==2.3.1 in c:\\users\\sonis\\anaconda3\\envs\\vihave-summarizer\\lib\\site-packages (from -r d:\\Work\\Job_Hunt\\Vihave.ai\\meeting-transcript-summarization/requirements.txt (line 4)) (2.3.1+cu118)\n",
      "Requirement already satisfied: transformers==4.41.2 in c:\\users\\sonis\\anaconda3\\envs\\vihave-summarizer\\lib\\site-packages (from -r d:\\Work\\Job_Hunt\\Vihave.ai\\meeting-transcript-summarization/requirements.txt (line 6)) (4.41.2)\n",
      "Requirement already satisfied: pandas in c:\\users\\sonis\\anaconda3\\envs\\vihave-summarizer\\lib\\site-packages (from -r d:\\Work\\Job_Hunt\\Vihave.ai\\meeting-transcript-summarization/requirements.txt (line 9)) (2.2.2)\n",
      "Requirement already satisfied: scikit-learn in c:\\users\\sonis\\anaconda3\\envs\\vihave-summarizer\\lib\\site-packages (from -r d:\\Work\\Job_Hunt\\Vihave.ai\\meeting-transcript-summarization/requirements.txt (line 10)) (1.5.1)\n",
      "Requirement already satisfied: pyarrow in c:\\users\\sonis\\anaconda3\\envs\\vihave-summarizer\\lib\\site-packages (from -r d:\\Work\\Job_Hunt\\Vihave.ai\\meeting-transcript-summarization/requirements.txt (line 11)) (16.1.0)\n",
      "Requirement already satisfied: datasets in c:\\users\\sonis\\anaconda3\\envs\\vihave-summarizer\\lib\\site-packages (from -r d:\\Work\\Job_Hunt\\Vihave.ai\\meeting-transcript-summarization/requirements.txt (line 12)) (2.20.0)\n",
      "Requirement already satisfied: accelerate>=0.21.0 in c:\\users\\sonis\\anaconda3\\envs\\vihave-summarizer\\lib\\site-packages (from -r d:\\Work\\Job_Hunt\\Vihave.ai\\meeting-transcript-summarization/requirements.txt (line 13)) (0.32.0)\n",
      "Requirement already satisfied: semchunk in c:\\users\\sonis\\anaconda3\\envs\\vihave-summarizer\\lib\\site-packages (from -r d:\\Work\\Job_Hunt\\Vihave.ai\\meeting-transcript-summarization/requirements.txt (line 16)) (2.1.0)\n",
      "Requirement already satisfied: filelock in c:\\users\\sonis\\anaconda3\\envs\\vihave-summarizer\\lib\\site-packages (from torch==2.3.1->-r d:\\Work\\Job_Hunt\\Vihave.ai\\meeting-transcript-summarization/requirements.txt (line 4)) (3.15.4)\n",
      "Requirement already satisfied: typing-extensions>=4.8.0 in c:\\users\\sonis\\anaconda3\\envs\\vihave-summarizer\\lib\\site-packages (from torch==2.3.1->-r d:\\Work\\Job_Hunt\\Vihave.ai\\meeting-transcript-summarization/requirements.txt (line 4)) (4.12.2)\n",
      "Requirement already satisfied: sympy in c:\\users\\sonis\\anaconda3\\envs\\vihave-summarizer\\lib\\site-packages (from torch==2.3.1->-r d:\\Work\\Job_Hunt\\Vihave.ai\\meeting-transcript-summarization/requirements.txt (line 4)) (1.12.1)\n",
      "Requirement already satisfied: networkx in c:\\users\\sonis\\anaconda3\\envs\\vihave-summarizer\\lib\\site-packages (from torch==2.3.1->-r d:\\Work\\Job_Hunt\\Vihave.ai\\meeting-transcript-summarization/requirements.txt (line 4)) (3.3)\n",
      "Requirement already satisfied: jinja2 in c:\\users\\sonis\\anaconda3\\envs\\vihave-summarizer\\lib\\site-packages (from torch==2.3.1->-r d:\\Work\\Job_Hunt\\Vihave.ai\\meeting-transcript-summarization/requirements.txt (line 4)) (3.1.4)\n",
      "Requirement already satisfied: fsspec in c:\\users\\sonis\\anaconda3\\envs\\vihave-summarizer\\lib\\site-packages (from torch==2.3.1->-r d:\\Work\\Job_Hunt\\Vihave.ai\\meeting-transcript-summarization/requirements.txt (line 4)) (2024.5.0)\n",
      "Requirement already satisfied: mkl<=2021.4.0,>=2021.1.1 in c:\\users\\sonis\\anaconda3\\envs\\vihave-summarizer\\lib\\site-packages (from torch==2.3.1->-r d:\\Work\\Job_Hunt\\Vihave.ai\\meeting-transcript-summarization/requirements.txt (line 4)) (2021.4.0)\n",
      "Requirement already satisfied: huggingface-hub<1.0,>=0.23.0 in c:\\users\\sonis\\anaconda3\\envs\\vihave-summarizer\\lib\\site-packages (from transformers==4.41.2->-r d:\\Work\\Job_Hunt\\Vihave.ai\\meeting-transcript-summarization/requirements.txt (line 6)) (0.23.4)\n",
      "Requirement already satisfied: packaging>=20.0 in c:\\users\\sonis\\anaconda3\\envs\\vihave-summarizer\\lib\\site-packages (from transformers==4.41.2->-r d:\\Work\\Job_Hunt\\Vihave.ai\\meeting-transcript-summarization/requirements.txt (line 6)) (24.1)\n",
      "Requirement already satisfied: pyyaml>=5.1 in c:\\users\\sonis\\anaconda3\\envs\\vihave-summarizer\\lib\\site-packages (from transformers==4.41.2->-r d:\\Work\\Job_Hunt\\Vihave.ai\\meeting-transcript-summarization/requirements.txt (line 6)) (6.0.1)\n",
      "Requirement already satisfied: regex!=2019.12.17 in c:\\users\\sonis\\anaconda3\\envs\\vihave-summarizer\\lib\\site-packages (from transformers==4.41.2->-r d:\\Work\\Job_Hunt\\Vihave.ai\\meeting-transcript-summarization/requirements.txt (line 6)) (2024.5.15)\n",
      "Requirement already satisfied: requests in c:\\users\\sonis\\anaconda3\\envs\\vihave-summarizer\\lib\\site-packages (from transformers==4.41.2->-r d:\\Work\\Job_Hunt\\Vihave.ai\\meeting-transcript-summarization/requirements.txt (line 6)) (2.32.3)\n",
      "Requirement already satisfied: tokenizers<0.20,>=0.19 in c:\\users\\sonis\\anaconda3\\envs\\vihave-summarizer\\lib\\site-packages (from transformers==4.41.2->-r d:\\Work\\Job_Hunt\\Vihave.ai\\meeting-transcript-summarization/requirements.txt (line 6)) (0.19.1)\n",
      "Requirement already satisfied: safetensors>=0.4.1 in c:\\users\\sonis\\anaconda3\\envs\\vihave-summarizer\\lib\\site-packages (from transformers==4.41.2->-r d:\\Work\\Job_Hunt\\Vihave.ai\\meeting-transcript-summarization/requirements.txt (line 6)) (0.4.3)\n",
      "Requirement already satisfied: tqdm>=4.27 in c:\\users\\sonis\\anaconda3\\envs\\vihave-summarizer\\lib\\site-packages (from transformers==4.41.2->-r d:\\Work\\Job_Hunt\\Vihave.ai\\meeting-transcript-summarization/requirements.txt (line 6)) (4.66.4)\n",
      "Requirement already satisfied: python-dateutil>=2.8.2 in c:\\users\\sonis\\anaconda3\\envs\\vihave-summarizer\\lib\\site-packages (from pandas->-r d:\\Work\\Job_Hunt\\Vihave.ai\\meeting-transcript-summarization/requirements.txt (line 9)) (2.9.0)\n",
      "Requirement already satisfied: pytz>=2020.1 in c:\\users\\sonis\\anaconda3\\envs\\vihave-summarizer\\lib\\site-packages (from pandas->-r d:\\Work\\Job_Hunt\\Vihave.ai\\meeting-transcript-summarization/requirements.txt (line 9)) (2024.1)\n",
      "Requirement already satisfied: tzdata>=2022.7 in c:\\users\\sonis\\anaconda3\\envs\\vihave-summarizer\\lib\\site-packages (from pandas->-r d:\\Work\\Job_Hunt\\Vihave.ai\\meeting-transcript-summarization/requirements.txt (line 9)) (2024.1)\n",
      "Requirement already satisfied: scipy>=1.6.0 in c:\\users\\sonis\\anaconda3\\envs\\vihave-summarizer\\lib\\site-packages (from scikit-learn->-r d:\\Work\\Job_Hunt\\Vihave.ai\\meeting-transcript-summarization/requirements.txt (line 10)) (1.14.0)\n",
      "Requirement already satisfied: joblib>=1.2.0 in c:\\users\\sonis\\anaconda3\\envs\\vihave-summarizer\\lib\\site-packages (from scikit-learn->-r d:\\Work\\Job_Hunt\\Vihave.ai\\meeting-transcript-summarization/requirements.txt (line 10)) (1.4.2)\n",
      "Requirement already satisfied: threadpoolctl>=3.1.0 in c:\\users\\sonis\\anaconda3\\envs\\vihave-summarizer\\lib\\site-packages (from scikit-learn->-r d:\\Work\\Job_Hunt\\Vihave.ai\\meeting-transcript-summarization/requirements.txt (line 10)) (3.5.0)\n",
      "Requirement already satisfied: pyarrow-hotfix in c:\\users\\sonis\\anaconda3\\envs\\vihave-summarizer\\lib\\site-packages (from datasets->-r d:\\Work\\Job_Hunt\\Vihave.ai\\meeting-transcript-summarization/requirements.txt (line 12)) (0.6)\n",
      "Requirement already satisfied: dill<0.3.9,>=0.3.0 in c:\\users\\sonis\\anaconda3\\envs\\vihave-summarizer\\lib\\site-packages (from datasets->-r d:\\Work\\Job_Hunt\\Vihave.ai\\meeting-transcript-summarization/requirements.txt (line 12)) (0.3.8)\n",
      "Requirement already satisfied: xxhash in c:\\users\\sonis\\anaconda3\\envs\\vihave-summarizer\\lib\\site-packages (from datasets->-r d:\\Work\\Job_Hunt\\Vihave.ai\\meeting-transcript-summarization/requirements.txt (line 12)) (3.4.1)\n",
      "Requirement already satisfied: multiprocess in c:\\users\\sonis\\anaconda3\\envs\\vihave-summarizer\\lib\\site-packages (from datasets->-r d:\\Work\\Job_Hunt\\Vihave.ai\\meeting-transcript-summarization/requirements.txt (line 12)) (0.70.16)\n",
      "Requirement already satisfied: aiohttp in c:\\users\\sonis\\anaconda3\\envs\\vihave-summarizer\\lib\\site-packages (from datasets->-r d:\\Work\\Job_Hunt\\Vihave.ai\\meeting-transcript-summarization/requirements.txt (line 12)) (3.9.5)\n",
      "Requirement already satisfied: psutil in c:\\users\\sonis\\anaconda3\\envs\\vihave-summarizer\\lib\\site-packages (from accelerate>=0.21.0->-r d:\\Work\\Job_Hunt\\Vihave.ai\\meeting-transcript-summarization/requirements.txt (line 13)) (5.9.0)\n",
      "Requirement already satisfied: mpire[dill] in c:\\users\\sonis\\anaconda3\\envs\\vihave-summarizer\\lib\\site-packages (from semchunk->-r d:\\Work\\Job_Hunt\\Vihave.ai\\meeting-transcript-summarization/requirements.txt (line 16)) (2.10.2)\n",
      "Requirement already satisfied: aiosignal>=1.1.2 in c:\\users\\sonis\\anaconda3\\envs\\vihave-summarizer\\lib\\site-packages (from aiohttp->datasets->-r d:\\Work\\Job_Hunt\\Vihave.ai\\meeting-transcript-summarization/requirements.txt (line 12)) (1.3.1)\n",
      "Requirement already satisfied: attrs>=17.3.0 in c:\\users\\sonis\\anaconda3\\envs\\vihave-summarizer\\lib\\site-packages (from aiohttp->datasets->-r d:\\Work\\Job_Hunt\\Vihave.ai\\meeting-transcript-summarization/requirements.txt (line 12)) (23.2.0)\n",
      "Requirement already satisfied: frozenlist>=1.1.1 in c:\\users\\sonis\\anaconda3\\envs\\vihave-summarizer\\lib\\site-packages (from aiohttp->datasets->-r d:\\Work\\Job_Hunt\\Vihave.ai\\meeting-transcript-summarization/requirements.txt (line 12)) (1.4.1)\n",
      "Requirement already satisfied: multidict<7.0,>=4.5 in c:\\users\\sonis\\anaconda3\\envs\\vihave-summarizer\\lib\\site-packages (from aiohttp->datasets->-r d:\\Work\\Job_Hunt\\Vihave.ai\\meeting-transcript-summarization/requirements.txt (line 12)) (6.0.5)\n",
      "Requirement already satisfied: yarl<2.0,>=1.0 in c:\\users\\sonis\\anaconda3\\envs\\vihave-summarizer\\lib\\site-packages (from aiohttp->datasets->-r d:\\Work\\Job_Hunt\\Vihave.ai\\meeting-transcript-summarization/requirements.txt (line 12)) (1.9.4)\n",
      "Requirement already satisfied: async-timeout<5.0,>=4.0 in c:\\users\\sonis\\anaconda3\\envs\\vihave-summarizer\\lib\\site-packages (from aiohttp->datasets->-r d:\\Work\\Job_Hunt\\Vihave.ai\\meeting-transcript-summarization/requirements.txt (line 12)) (4.0.3)\n",
      "Requirement already satisfied: intel-openmp==2021.* in c:\\users\\sonis\\anaconda3\\envs\\vihave-summarizer\\lib\\site-packages (from mkl<=2021.4.0,>=2021.1.1->torch==2.3.1->-r d:\\Work\\Job_Hunt\\Vihave.ai\\meeting-transcript-summarization/requirements.txt (line 4)) (2021.4.0)\n",
      "Requirement already satisfied: tbb==2021.* in c:\\users\\sonis\\anaconda3\\envs\\vihave-summarizer\\lib\\site-packages (from mkl<=2021.4.0,>=2021.1.1->torch==2.3.1->-r d:\\Work\\Job_Hunt\\Vihave.ai\\meeting-transcript-summarization/requirements.txt (line 4)) (2021.13.0)\n",
      "Requirement already satisfied: six>=1.5 in c:\\users\\sonis\\anaconda3\\envs\\vihave-summarizer\\lib\\site-packages (from python-dateutil>=2.8.2->pandas->-r d:\\Work\\Job_Hunt\\Vihave.ai\\meeting-transcript-summarization/requirements.txt (line 9)) (1.16.0)\n",
      "Requirement already satisfied: charset-normalizer<4,>=2 in c:\\users\\sonis\\anaconda3\\envs\\vihave-summarizer\\lib\\site-packages (from requests->transformers==4.41.2->-r d:\\Work\\Job_Hunt\\Vihave.ai\\meeting-transcript-summarization/requirements.txt (line 6)) (3.3.2)\n",
      "Requirement already satisfied: idna<4,>=2.5 in c:\\users\\sonis\\anaconda3\\envs\\vihave-summarizer\\lib\\site-packages (from requests->transformers==4.41.2->-r d:\\Work\\Job_Hunt\\Vihave.ai\\meeting-transcript-summarization/requirements.txt (line 6)) (3.7)\n",
      "Requirement already satisfied: urllib3<3,>=1.21.1 in c:\\users\\sonis\\anaconda3\\envs\\vihave-summarizer\\lib\\site-packages (from requests->transformers==4.41.2->-r d:\\Work\\Job_Hunt\\Vihave.ai\\meeting-transcript-summarization/requirements.txt (line 6)) (2.2.2)\n",
      "Requirement already satisfied: certifi>=2017.4.17 in c:\\users\\sonis\\anaconda3\\envs\\vihave-summarizer\\lib\\site-packages (from requests->transformers==4.41.2->-r d:\\Work\\Job_Hunt\\Vihave.ai\\meeting-transcript-summarization/requirements.txt (line 6)) (2024.6.2)\n",
      "Requirement already satisfied: colorama in c:\\users\\sonis\\anaconda3\\envs\\vihave-summarizer\\lib\\site-packages (from tqdm>=4.27->transformers==4.41.2->-r d:\\Work\\Job_Hunt\\Vihave.ai\\meeting-transcript-summarization/requirements.txt (line 6)) (0.4.6)\n",
      "Requirement already satisfied: MarkupSafe>=2.0 in c:\\users\\sonis\\anaconda3\\envs\\vihave-summarizer\\lib\\site-packages (from jinja2->torch==2.3.1->-r d:\\Work\\Job_Hunt\\Vihave.ai\\meeting-transcript-summarization/requirements.txt (line 4)) (2.1.5)\n",
      "Requirement already satisfied: pygments>=2.0 in c:\\users\\sonis\\anaconda3\\envs\\vihave-summarizer\\lib\\site-packages (from mpire[dill]->semchunk->-r d:\\Work\\Job_Hunt\\Vihave.ai\\meeting-transcript-summarization/requirements.txt (line 16)) (2.18.0)\n",
      "Requirement already satisfied: pywin32>=301 in c:\\users\\sonis\\anaconda3\\envs\\vihave-summarizer\\lib\\site-packages (from mpire[dill]->semchunk->-r d:\\Work\\Job_Hunt\\Vihave.ai\\meeting-transcript-summarization/requirements.txt (line 16)) (305.1)\n",
      "Requirement already satisfied: mpmath<1.4.0,>=1.1.0 in c:\\users\\sonis\\anaconda3\\envs\\vihave-summarizer\\lib\\site-packages (from sympy->torch==2.3.1->-r d:\\Work\\Job_Hunt\\Vihave.ai\\meeting-transcript-summarization/requirements.txt (line 4)) (1.3.0)\n",
      "Note: you may need to restart the kernel to use updated packages.\n"
     ]
    }
   ],
   "source": [
    "%pip install -r {SRC_SUBDIR}/requirements.txt"
   ]
  },
  {
   "cell_type": "code",
   "execution_count": 3,
   "metadata": {},
   "outputs": [],
   "source": [
    "from meeting_transcript_summarization.src import topic_seg, utils"
   ]
  },
  {
   "cell_type": "code",
   "execution_count": 4,
   "metadata": {},
   "outputs": [],
   "source": [
    "TRANSCRIPT_PATH = r\"../data/sample_transcript.txt\"\n",
    "transcript  = utils.read_transcript(TRANSCRIPT_PATH)"
   ]
  },
  {
   "cell_type": "code",
   "execution_count": 9,
   "metadata": {},
   "outputs": [
    {
     "name": "stdout",
     "output_type": "stream",
     "text": [
      "Segment 1:\n",
      "Date: June 14, 2024\n",
      "Time: 10:00 AM - 11:00 AM\n",
      "Participants:\n",
      " • Alice (Product Manager)\n",
      " • Bob (Software Engineer)\n",
      " • Charlie (QA Lead)\n",
      " • David (Customer Support)\n",
      " • Emma (UI/UX Designer)\n",
      "\n",
      "\n",
      "Segment 2:\n",
      "10:00 AM - 10:05 AM: Introductions and Agenda Setting\n",
      "Alice: Hey everyone, thanks for jumping on this call at such short notice. So, we've got a pretty pressing issue with the login functionality after the last update. I want us to go over what's happening, why it's happening, and how we can fix it quickly. Let’s start with a quick hello for anyone who’s new.\n",
      "David: Hi all, I’m David from Customer Support. Nice to meet everyone!\n",
      "Charlie: Hey, Charlie here, QA Lead.\n",
      "Emma: Hi, I'm Emma, the UI/UX Designer.\n",
      "Bob: And I’m Bob, the Software Engineer.\n",
      "\n",
      "\n",
      "Segment 3:\n",
      "10:05 AM - 10:15 AM: Issue Description\n",
      "David: So, here's the deal. We've been getting a lot of complaints from users who can't log in. They keep seeing an \"Invalid credentials\" error even though they're sure their details are right. This started right after our update last Friday.\n",
      "Alice: Got it. Bob, have you had a chance to look into this?\n",
      "10:15 AM - 10:30 AM: Root Cause Analysis\n",
      "\n",
      "\n",
      "Segment 4:\n",
      "Bob: Yeah, I did a bit of digging. It looks like the issue is with our authentication microservice. We updated how session tokens are handled, and I think there's a bug in the token validation part.\n",
      "Charlie: We ran our usual tests on the login, but it seems like we missed this specific case. Our tests didn’t cover the token validation for valid credentials failing.\n",
      "10:30 AM - 10:45 AM: Proposed Solutions\n",
      "\n",
      "\n",
      "Segment 5:\n",
      "Emma: From a UX standpoint, we need to make sure that the error messages are helpful. But yeah, we probably need to rollback those changes or push a hotfix ASAP.\n",
      "Bob: Agreed. I can rollback the changes and deploy the previous version today. Then we'll do a more thorough code review and add tests for this scenario.\n",
      "Alice: Sounds good. Charlie, can you make sure we get those new test cases added?\n",
      "Charlie: Absolutely, I’ll get on that.\n",
      "10:45 AM - 11:00 AM: Action Items and Next Steps\n",
      "Alice: Alright, let’s sum up what needs to be done:\n",
      "\n",
      "\n",
      "Segment 6:\n",
      " • Bob: Rollback the changes and deploy the previous version by the end of the day.\n",
      " • Charlie: Add test cases for token validation and run regression tests.\n",
      " • David: Draft a communication plan for affected users, explaining what happened and how we're fixing it.\n",
      " • Emma: Improve the error message and provide clear guidance for users when they hit login issues.\n",
      "Anything else?\n",
      "All: Nope, that covers it.\n",
      "Alice: Great. Thanks, everyone. Let’s get to it and fix this.\n",
      "\n",
      "\n",
      "Number of segments: 6\n"
     ]
    }
   ],
   "source": [
    "segments = topic_seg.get_topic_segments(transcript)\n",
    "\n",
    "for i, seg in enumerate(segments):\n",
    "    print(f'Segment {i+1}:\\n{seg}\\n\\n')\n",
    "\n",
    "print(f'Number of segments: {len(segments)}')"
   ]
  },
  {
   "cell_type": "code",
   "execution_count": null,
   "metadata": {},
   "outputs": [],
   "source": []
  }
 ],
 "metadata": {
  "kernelspec": {
   "display_name": "vihave-summarizer",
   "language": "python",
   "name": "python3"
  },
  "language_info": {
   "codemirror_mode": {
    "name": "ipython",
    "version": 3
   },
   "file_extension": ".py",
   "mimetype": "text/x-python",
   "name": "python",
   "nbconvert_exporter": "python",
   "pygments_lexer": "ipython3",
   "version": "3.10.14"
  }
 },
 "nbformat": 4,
 "nbformat_minor": 2
}
