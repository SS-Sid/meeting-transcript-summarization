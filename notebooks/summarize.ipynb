{
 "cells": [
  {
   "cell_type": "markdown",
   "metadata": {},
   "source": [
    "### imports"
   ]
  },
  {
   "cell_type": "code",
   "execution_count": 1,
   "metadata": {},
   "outputs": [],
   "source": [
    "%reload_ext autoreload\n",
    "%autoreload 2\n",
    "\n",
    "import sys\n",
    "import os"
   ]
  },
  {
   "cell_type": "code",
   "execution_count": 2,
   "metadata": {},
   "outputs": [
    {
     "name": "stdout",
     "output_type": "stream",
     "text": [
      "Adding source directory to the sys.path: 'd:\\\\Work\\\\Job_Hunt\\\\Vihave.ai\\\\meeting-transcript-summarization'\n"
     ]
    }
   ],
   "source": [
    "SRC_SUBDIR = '../'\n",
    "SRC_SUBDIR = os.path.abspath(SRC_SUBDIR)\n",
    "if SRC_SUBDIR not in sys.path:\n",
    "    print(f'Adding source directory to the sys.path: {SRC_SUBDIR!r}')\n",
    "    sys.path.insert(1, SRC_SUBDIR)"
   ]
  },
  {
   "cell_type": "code",
   "execution_count": 3,
   "metadata": {},
   "outputs": [],
   "source": [
    "from meeting_transcript_summarization.src.summarize import read_transcript"
   ]
  },
  {
   "cell_type": "markdown",
   "metadata": {},
   "source": [
    "### read file"
   ]
  },
  {
   "cell_type": "code",
   "execution_count": 4,
   "metadata": {},
   "outputs": [],
   "source": [
    "transcript = read_transcript(r'../data/sample_transcript.txt')"
   ]
  },
  {
   "cell_type": "code",
   "execution_count": 5,
   "metadata": {},
   "outputs": [
    {
     "data": {
      "text/plain": [
       "'Date: June 14, 2024\\nTime: 10:00 AM - 11:00 AM\\nParticipants:\\n • Alice (Product Manager)\\n • Bob (Software Engineer)\\n • Charlie (QA Lead)\\n • David (Customer Support)\\n • Emma (UI/UX Designer)\\n\\n10:00 AM - 10:05 AM: Introductions and Agenda Setting\\nAlice: Hey everyone, thanks for jumping on this call at such short notice. So, we\\'ve got a pretty pressing issue with the login functionality after the last update. I want us to go over what\\'s happening, why it\\'s happening, and how we can fix it quickly. Let’s start with a quick hello for anyone who’s new.\\nDavid: Hi all, I’m David from Customer Support. Nice to meet everyone!\\nCharlie: Hey, Charlie here, QA Lead.\\nEmma: Hi, I\\'m Emma, the UI/UX Designer.\\nBob: And I’m Bob, the Software Engineer.\\n10:05 AM - 10:15 AM: Issue Description\\nDavid: So, here\\'s the deal. We\\'ve been getting a lot of complaints from users who can\\'t log in. They keep seeing an \"Invalid credentials\" error even though they\\'re sure their details are right. This started right after our update last Friday.\\nAlice: Got it. Bob, have you had a chance to look into this?\\n10:15 AM - 10:30 AM: Root Cause Analysis\\nBob: Yeah, I did a bit of digging. It looks like the issue is with our authentication microservice. We updated how session tokens are handled, and I think there\\'s a bug in the token validation part.\\nCharlie: We ran our usual tests on the login, but it seems like we missed this specific case. Our tests didn’t cover the token validation for valid credentials failing.\\n10:30 AM - 10:45 AM: Proposed Solutions\\nEmma: From a UX standpoint, we need to make sure that the error messages are helpful. But yeah, we probably need to rollback those changes or push a hotfix ASAP.\\nBob: Agreed. I can rollback the changes and deploy the previous version today. Then we\\'ll do a more thorough code review and add tests for this scenario.\\nAlice: Sounds good. Charlie, can you make sure we get those new test cases added?\\nCharlie: Absolutely, I’ll get on that.\\n10:45 AM - 11:00 AM: Action Items and Next Steps\\nAlice: Alright, let’s sum up what needs to be done:\\n • Bob: Rollback the changes and deploy the previous version by the end of the day.\\n • Charlie: Add test cases for token validation and run regression tests.\\n • David: Draft a communication plan for affected users, explaining what happened and how we\\'re fixing it.\\n • Emma: Improve the error message and provide clear guidance for users when they hit login issues.\\nAnything else?\\nAll: Nope, that covers it.\\nAlice: Great. Thanks, everyone. Let’s get to it\\xa0and\\xa0fix\\xa0this.'"
      ]
     },
     "metadata": {},
     "output_type": "display_data"
    }
   ],
   "source": [
    "display(transcript)"
   ]
  },
  {
   "cell_type": "markdown",
   "metadata": {},
   "source": [
    "### download and unzip tar.gz"
   ]
  },
  {
   "cell_type": "code",
   "execution_count": 6,
   "metadata": {},
   "outputs": [],
   "source": [
    "from urllib import request"
   ]
  },
  {
   "cell_type": "code",
   "execution_count": 33,
   "metadata": {},
   "outputs": [],
   "source": [
    "def download(url, target):\n",
    "    # Download the file from `url` and save it locally under `file_name`\n",
    "\n",
    "    # check if the file already exists\n",
    "    if os.path.exists(target):\n",
    "        print(f'The file already exists: {target!r}')\n",
    "        return\n",
    "\n",
    "    with request.urlopen(request.Request(url), timeout=15.0) as response:\n",
    "        if response.status == 200:\n",
    "            # check if the target directory exists\n",
    "            # if not, create the directory\n",
    "            target_dir = os.path.dirname(target)\n",
    "            if not os.path.exists(target_dir):\n",
    "                os.makedirs(target_dir)\n",
    "\n",
    "            # save the file\n",
    "            with open(target, \"wb\") as f:\n",
    "                f.write(response.read())\n",
    "\n",
    "\n",
    "# URL = r'https://dl.fbaipublicfiles.com/fairseq/models/bart.large.cnn.tar.gz'\n",
    "# TARGET = r'../models/bart.large.cnn.tar.gz'\n",
    "# download(URL, TARGET)"
   ]
  },
  {
   "cell_type": "code",
   "execution_count": 8,
   "metadata": {},
   "outputs": [],
   "source": [
    "import tarfile"
   ]
  },
  {
   "cell_type": "code",
   "execution_count": 34,
   "metadata": {},
   "outputs": [
    {
     "name": "stdout",
     "output_type": "stream",
     "text": [
      "Extracting the file: '../models/bart.large.cnn.tar.gz'\n"
     ]
    }
   ],
   "source": [
    "def unzip_file(tar_file, target_dir):\n",
    "    # check if the file is already extracted\n",
    "    if os.path.exists(tar_file[:-7]):\n",
    "        print(f'The file is already extracted: {tar_file[:-7]!r}')\n",
    "        return\n",
    "\n",
    "\n",
    "    # check if the target directory exists\n",
    "    # if not, create the directory\n",
    "    if not os.path.exists(target_dir):\n",
    "        os.makedirs(target_dir)\n",
    "\n",
    "    print(f'Extracting the file: {tar_file!r}')\n",
    "    with tarfile.open(tar_file, 'r:gz') as f:\n",
    "        f.extractall(target_dir)\n",
    "\n",
    "\n",
    "# tar_file = TARGET\n",
    "# target_dir = os.path.dirname(tar_file)\n",
    "# unzip_file(tar_file, target_dir)"
   ]
  },
  {
   "cell_type": "markdown",
   "metadata": {},
   "source": [
    "### pipeline"
   ]
  },
  {
   "cell_type": "code",
   "execution_count": 10,
   "metadata": {},
   "outputs": [
    {
     "name": "stdout",
     "output_type": "stream",
     "text": [
      "Requirement already satisfied: numpy==1.26.4 in c:\\users\\sonis\\anaconda3\\envs\\vihave_post_processing\\lib\\site-packages (1.26.4)\n",
      "Note: you may need to restart the kernel to use updated packages.\n"
     ]
    }
   ],
   "source": [
    "%pip install numpy==1.26.4"
   ]
  },
  {
   "cell_type": "code",
   "execution_count": 11,
   "metadata": {},
   "outputs": [
    {
     "name": "stdout",
     "output_type": "stream",
     "text": [
      "Looking in indexes: https://download.pytorch.org/whl/cu118\n",
      "Requirement already satisfied: torch in c:\\users\\sonis\\anaconda3\\envs\\vihave_post_processing\\lib\\site-packages (2.3.1+cu118)\n",
      "Requirement already satisfied: torchvision in c:\\users\\sonis\\anaconda3\\envs\\vihave_post_processing\\lib\\site-packages (0.18.1+cu118)\n",
      "Requirement already satisfied: torchaudio in c:\\users\\sonis\\anaconda3\\envs\\vihave_post_processing\\lib\\site-packages (2.3.1+cu118)\n",
      "Requirement already satisfied: filelock in c:\\users\\sonis\\anaconda3\\envs\\vihave_post_processing\\lib\\site-packages (from torch) (3.15.4)\n",
      "Requirement already satisfied: typing-extensions>=4.8.0 in c:\\users\\sonis\\anaconda3\\envs\\vihave_post_processing\\lib\\site-packages (from torch) (4.12.2)\n",
      "Requirement already satisfied: sympy in c:\\users\\sonis\\anaconda3\\envs\\vihave_post_processing\\lib\\site-packages (from torch) (1.12)\n",
      "Requirement already satisfied: networkx in c:\\users\\sonis\\anaconda3\\envs\\vihave_post_processing\\lib\\site-packages (from torch) (3.2.1)\n",
      "Requirement already satisfied: jinja2 in c:\\users\\sonis\\anaconda3\\envs\\vihave_post_processing\\lib\\site-packages (from torch) (3.1.3)\n",
      "Requirement already satisfied: fsspec in c:\\users\\sonis\\anaconda3\\envs\\vihave_post_processing\\lib\\site-packages (from torch) (2024.6.0)\n",
      "Requirement already satisfied: mkl<=2021.4.0,>=2021.1.1 in c:\\users\\sonis\\anaconda3\\envs\\vihave_post_processing\\lib\\site-packages (from torch) (2021.4.0)\n",
      "Requirement already satisfied: numpy in c:\\users\\sonis\\anaconda3\\envs\\vihave_post_processing\\lib\\site-packages (from torchvision) (1.26.4)\n",
      "Requirement already satisfied: pillow!=8.3.*,>=5.3.0 in c:\\users\\sonis\\anaconda3\\envs\\vihave_post_processing\\lib\\site-packages (from torchvision) (10.2.0)\n",
      "Requirement already satisfied: intel-openmp==2021.* in c:\\users\\sonis\\anaconda3\\envs\\vihave_post_processing\\lib\\site-packages (from mkl<=2021.4.0,>=2021.1.1->torch) (2021.4.0)\n",
      "Requirement already satisfied: tbb==2021.* in c:\\users\\sonis\\anaconda3\\envs\\vihave_post_processing\\lib\\site-packages (from mkl<=2021.4.0,>=2021.1.1->torch) (2021.11.0)\n",
      "Requirement already satisfied: MarkupSafe>=2.0 in c:\\users\\sonis\\anaconda3\\envs\\vihave_post_processing\\lib\\site-packages (from jinja2->torch) (2.1.5)\n",
      "Requirement already satisfied: mpmath>=0.19 in c:\\users\\sonis\\anaconda3\\envs\\vihave_post_processing\\lib\\site-packages (from sympy->torch) (1.3.0)\n"
     ]
    }
   ],
   "source": [
    "!pip3 install torch torchvision torchaudio --index-url https://download.pytorch.org/whl/cu118"
   ]
  },
  {
   "cell_type": "code",
   "execution_count": 16,
   "metadata": {},
   "outputs": [
    {
     "name": "stdout",
     "output_type": "stream",
     "text": [
      "Requirement already satisfied: transformers in c:\\users\\sonis\\anaconda3\\envs\\vihave_post_processing\\lib\\site-packages (4.41.2)Note: you may need to restart the kernel to use updated packages.\n",
      "\n",
      "Requirement already satisfied: filelock in c:\\users\\sonis\\anaconda3\\envs\\vihave_post_processing\\lib\\site-packages (from transformers) (3.15.4)\n",
      "Requirement already satisfied: huggingface-hub<1.0,>=0.23.0 in c:\\users\\sonis\\anaconda3\\envs\\vihave_post_processing\\lib\\site-packages (from transformers) (0.23.4)\n",
      "Requirement already satisfied: numpy>=1.17 in c:\\users\\sonis\\anaconda3\\envs\\vihave_post_processing\\lib\\site-packages (from transformers) (1.26.4)\n",
      "Requirement already satisfied: packaging>=20.0 in c:\\users\\sonis\\anaconda3\\envs\\vihave_post_processing\\lib\\site-packages (from transformers) (24.1)\n",
      "Requirement already satisfied: pyyaml>=5.1 in c:\\users\\sonis\\anaconda3\\envs\\vihave_post_processing\\lib\\site-packages (from transformers) (6.0.1)\n",
      "Requirement already satisfied: regex!=2019.12.17 in c:\\users\\sonis\\anaconda3\\envs\\vihave_post_processing\\lib\\site-packages (from transformers) (2024.5.15)\n",
      "Requirement already satisfied: requests in c:\\users\\sonis\\anaconda3\\envs\\vihave_post_processing\\lib\\site-packages (from transformers) (2.32.3)\n",
      "Requirement already satisfied: tokenizers<0.20,>=0.19 in c:\\users\\sonis\\anaconda3\\envs\\vihave_post_processing\\lib\\site-packages (from transformers) (0.19.1)\n",
      "Requirement already satisfied: safetensors>=0.4.1 in c:\\users\\sonis\\anaconda3\\envs\\vihave_post_processing\\lib\\site-packages (from transformers) (0.4.3)\n",
      "Requirement already satisfied: tqdm>=4.27 in c:\\users\\sonis\\anaconda3\\envs\\vihave_post_processing\\lib\\site-packages (from transformers) (4.66.4)\n",
      "Requirement already satisfied: fsspec>=2023.5.0 in c:\\users\\sonis\\anaconda3\\envs\\vihave_post_processing\\lib\\site-packages (from huggingface-hub<1.0,>=0.23.0->transformers) (2024.6.0)\n",
      "Requirement already satisfied: typing-extensions>=3.7.4.3 in c:\\users\\sonis\\anaconda3\\envs\\vihave_post_processing\\lib\\site-packages (from huggingface-hub<1.0,>=0.23.0->transformers) (4.12.2)\n",
      "Requirement already satisfied: colorama in c:\\users\\sonis\\anaconda3\\envs\\vihave_post_processing\\lib\\site-packages (from tqdm>=4.27->transformers) (0.4.6)\n",
      "Requirement already satisfied: charset-normalizer<4,>=2 in c:\\users\\sonis\\anaconda3\\envs\\vihave_post_processing\\lib\\site-packages (from requests->transformers) (3.3.2)\n",
      "Requirement already satisfied: idna<4,>=2.5 in c:\\users\\sonis\\anaconda3\\envs\\vihave_post_processing\\lib\\site-packages (from requests->transformers) (3.7)\n",
      "Requirement already satisfied: urllib3<3,>=1.21.1 in c:\\users\\sonis\\anaconda3\\envs\\vihave_post_processing\\lib\\site-packages (from requests->transformers) (2.2.2)\n",
      "Requirement already satisfied: certifi>=2017.4.17 in c:\\users\\sonis\\anaconda3\\envs\\vihave_post_processing\\lib\\site-packages (from requests->transformers) (2024.6.2)\n"
     ]
    }
   ],
   "source": [
    "%pip install transformers"
   ]
  },
  {
   "cell_type": "markdown",
   "metadata": {},
   "source": [
    "saving desired model from huggingface hub to local folder"
   ]
  },
  {
   "cell_type": "code",
   "execution_count": 20,
   "metadata": {},
   "outputs": [
    {
     "name": "stderr",
     "output_type": "stream",
     "text": [
      "Cloning into 'bart-large-cnn'...\n",
      "Updating files:  38% (5/13)\n",
      "Updating files:  46% (6/13)\n",
      "Updating files:  53% (7/13)\n",
      "Updating files:  61% (8/13)\n",
      "Updating files:  69% (9/13)\n",
      "Updating files:  76% (10/13)\n",
      "Updating files:  84% (11/13)\n",
      "Updating files:  92% (12/13)\n",
      "Updating files: 100% (13/13)\n",
      "Updating files: 100% (13/13), done.\n",
      "Filtering content:  40% (2/5)\n",
      "Filtering content:  40% (2/5), 3.02 GiB | 265.26 MiB/s\n",
      "Filtering content:  60% (3/5), 3.02 GiB | 265.26 MiB/s\n",
      "Filtering content:  60% (3/5), 4.54 GiB | 273.33 MiB/s\n",
      "Filtering content:  80% (4/5), 4.54 GiB | 273.33 MiB/s\n",
      "Filtering content:  80% (4/5), 6.05 GiB | 33.01 MiB/s \n",
      "Filtering content: 100% (5/5), 6.05 GiB | 33.01 MiB/s\n",
      "Filtering content: 100% (5/5), 7.95 GiB | 52.88 MiB/s\n",
      "Filtering content: 100% (5/5), 7.95 GiB | 7.12 MiB/s, done.\n"
     ]
    }
   ],
   "source": [
    "!git clone https://huggingface.co/facebook/bart-large-cnn"
   ]
  },
  {
   "cell_type": "code",
   "execution_count": 29,
   "metadata": {},
   "outputs": [],
   "source": [
    "MODEL_LOCAL_DIR = r'./bart-large-cnn'"
   ]
  },
  {
   "cell_type": "code",
   "execution_count": 21,
   "metadata": {},
   "outputs": [],
   "source": [
    "from transformers import AutoTokenizer\n",
    "from transformers import AutoModelForSeq2SeqLM"
   ]
  },
  {
   "cell_type": "markdown",
   "metadata": {},
   "source": [
    "from_pretrained supports:\n",
    "\n",
    "either the models on the huggingface hub. \n",
    "\n",
    "or the models saved using huggingface library.\n",
    "\n",
    "\n",
    "so, loading models from local folder requires to meet either of the conditions."
   ]
  },
  {
   "cell_type": "code",
   "execution_count": 31,
   "metadata": {},
   "outputs": [],
   "source": [
    "tokenizer = AutoTokenizer.from_pretrained(MODEL_LOCAL_DIR)"
   ]
  },
  {
   "cell_type": "code",
   "execution_count": 32,
   "metadata": {},
   "outputs": [],
   "source": [
    "model = AutoModelForSeq2SeqLM.from_pretrained(MODEL_LOCAL_DIR)"
   ]
  },
  {
   "cell_type": "code",
   "execution_count": 27,
   "metadata": {},
   "outputs": [
    {
     "data": {
      "text/plain": [
       "'An issue with login functionality is causing users to see an \"Invalid credentials\" error. The issue is with the authentication microservice. The solution is to rollback the changes and deploy the previous version. Draft a communication plan for affected users, explaining what happened and how we\\'re fixing it.'"
      ]
     },
     "execution_count": 27,
     "metadata": {},
     "output_type": "execute_result"
    }
   ],
   "source": [
    "inputs = tokenizer(transcript, return_tensors=\"pt\").input_ids\n",
    "outputs = model.generate(inputs, max_new_tokens=100, do_sample=False)\n",
    "tokenizer.decode(outputs[0], skip_special_tokens=True)"
   ]
  },
  {
   "cell_type": "code",
   "execution_count": 28,
   "metadata": {},
   "outputs": [],
   "source": [
    "class Summarizer:\n",
    "    def __init__(self, tokenizer_checkpoint, model_checkpoint):\n",
    "        self.tokenizer = AutoTokenizer.from_pretrained(tokenizer_checkpoint)\n",
    "        self.model = AutoModelForSeq2SeqLM.from_pretrained(model_checkpoint)\n",
    "\n",
    "    def summarize(self, text, max_new_tokens=100):\n",
    "        inputs = self.tokenizer(text, return_tensors=\"pt\").input_ids\n",
    "        outputs = self.model.generate(inputs, max_new_tokens=max_new_tokens, do_sample=False)\n",
    "        return self.tokenizer.decode(outputs[0], skip_special_tokens=True)"
   ]
  },
  {
   "cell_type": "code",
   "execution_count": null,
   "metadata": {},
   "outputs": [],
   "source": []
  }
 ],
 "metadata": {
  "kernelspec": {
   "display_name": "vihave-post-process-transcript",
   "language": "python",
   "name": "python3"
  },
  "language_info": {
   "codemirror_mode": {
    "name": "ipython",
    "version": 3
   },
   "file_extension": ".py",
   "mimetype": "text/x-python",
   "name": "python",
   "nbconvert_exporter": "python",
   "pygments_lexer": "ipython3",
   "version": "3.10.14"
  }
 },
 "nbformat": 4,
 "nbformat_minor": 2
}
