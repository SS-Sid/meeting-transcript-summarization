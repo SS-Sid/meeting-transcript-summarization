{
 "cells": [
  {
   "cell_type": "code",
   "execution_count": 1,
   "metadata": {},
   "outputs": [
    {
     "name": "stdout",
     "output_type": "stream",
     "text": [
      "Adding source directory to the sys.path: 'd:\\\\Work\\\\Job_Hunt\\\\Vihave.ai\\\\meeting-transcript-summarization'\n"
     ]
    }
   ],
   "source": [
    "%reload_ext autoreload\n",
    "%autoreload 2\n",
    "\n",
    "import sys\n",
    "import os\n",
    "\n",
    "SRC_SUBDIR = '../'\n",
    "SRC_SUBDIR = os.path.abspath(SRC_SUBDIR)\n",
    "if SRC_SUBDIR not in sys.path:\n",
    "    print(f'Adding source directory to the sys.path: {SRC_SUBDIR!r}')\n",
    "    sys.path.insert(1, SRC_SUBDIR)"
   ]
  },
  {
   "cell_type": "code",
   "execution_count": 2,
   "metadata": {},
   "outputs": [],
   "source": [
    "from meeting_transcript_summarization.src import sentiment\n",
    "from meeting_transcript_summarization.src.summarize import read_transcript"
   ]
  },
  {
   "cell_type": "code",
   "execution_count": 5,
   "metadata": {},
   "outputs": [
    {
     "name": "stderr",
     "output_type": "stream",
     "text": [
      "No model was supplied, defaulted to distilbert/distilbert-base-uncased-finetuned-sst-2-english and revision af0f99b (https://huggingface.co/distilbert/distilbert-base-uncased-finetuned-sst-2-english).\n",
      "Using a pipeline without specifying a model name and revision in production is not recommended.\n",
      "c:\\Users\\sonis\\anaconda3\\envs\\vihave-summarizer\\lib\\site-packages\\huggingface_hub\\file_download.py:1132: FutureWarning: `resume_download` is deprecated and will be removed in version 1.0.0. Downloads always resume when possible. If you want to force a new download, use `force_download=True`.\n",
      "  warnings.warn(\n"
     ]
    },
    {
     "name": "stdout",
     "output_type": "stream",
     "text": [
      "[{'label': 'POSITIVE', 'score': 0.99642014503479}, {'label': 'POSITIVE', 'score': 0.7425976395606995}, {'label': 'POSITIVE', 'score': 0.996378481388092}, {'label': 'POSITIVE', 'score': 0.9286372661590576}, {'label': 'POSITIVE', 'score': 0.9603667855262756}, {'label': 'POSITIVE', 'score': 0.9510928988456726}, {'label': 'POSITIVE', 'score': 0.9851651191711426}, {'label': 'POSITIVE', 'score': 0.9650609493255615}, {'label': 'POSITIVE', 'score': 0.7481209635734558}, {'label': 'POSITIVE', 'score': 0.9767270088195801}, {'label': 'NEGATIVE', 'score': 0.9954362511634827}, {'label': 'POSITIVE', 'score': 0.9996896982192993}, {'label': 'POSITIVE', 'score': 0.9526506066322327}, {'label': 'POSITIVE', 'score': 0.9969494938850403}, {'label': 'POSITIVE', 'score': 0.9947721362113953}, {'label': 'NEGATIVE', 'score': 0.7452141642570496}, {'label': 'NEGATIVE', 'score': 0.9990682005882263}, {'label': 'POSITIVE', 'score': 0.997833788394928}, {'label': 'NEGATIVE', 'score': 0.8486003279685974}, {'label': 'NEGATIVE', 'score': 0.9987371563911438}, {'label': 'NEGATIVE', 'score': 0.9997884631156921}, {'label': 'NEGATIVE', 'score': 0.8772504329681396}, {'label': 'NEGATIVE', 'score': 0.9994039535522461}, {'label': 'NEGATIVE', 'score': 0.7232189774513245}, {'label': 'POSITIVE', 'score': 0.999433696269989}, {'label': 'POSITIVE', 'score': 0.9997513890266418}, {'label': 'POSITIVE', 'score': 0.9484342932701111}, {'label': 'POSITIVE', 'score': 0.9945481419563293}, {'label': 'POSITIVE', 'score': 0.6580766439437866}, {'label': 'NEGATIVE', 'score': 0.9743489027023315}, {'label': 'NEGATIVE', 'score': 0.9881449937820435}, {'label': 'POSITIVE', 'score': 0.980069637298584}, {'label': 'NEGATIVE', 'score': 0.9973757266998291}, {'label': 'NEGATIVE', 'score': 0.9958078861236572}, {'label': 'POSITIVE', 'score': 0.9996755123138428}]\n"
     ]
    }
   ],
   "source": [
    "TRANSCRIPT_PATH = r\"../data/sample_transcript.txt\"\n",
    "MODEL_DIR       = None\n",
    "\n",
    "transcript  = read_transcript(TRANSCRIPT_PATH)\n",
    "sentiment_analyser  = sentiment.SentimentAnalyser(MODEL_DIR)\n",
    "sentiments     = sentiment_analyser.predict(transcript.split('\\n'))\n",
    "\n",
    "print(sentiments)"
   ]
  }
 ],
 "metadata": {
  "kernelspec": {
   "display_name": "vihave-summarizer",
   "language": "python",
   "name": "python3"
  },
  "language_info": {
   "codemirror_mode": {
    "name": "ipython",
    "version": 3
   },
   "file_extension": ".py",
   "mimetype": "text/x-python",
   "name": "python",
   "nbconvert_exporter": "python",
   "pygments_lexer": "ipython3",
   "version": "3.10.14"
  }
 },
 "nbformat": 4,
 "nbformat_minor": 2
}
