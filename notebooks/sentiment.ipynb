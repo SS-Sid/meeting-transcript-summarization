{
 "cells": [
  {
   "cell_type": "code",
   "execution_count": 34,
   "metadata": {},
   "outputs": [],
   "source": [
    "%reload_ext autoreload\n",
    "%autoreload 2\n",
    "\n",
    "import sys\n",
    "import os\n",
    "\n",
    "SRC_SUBDIR = '../'\n",
    "SRC_SUBDIR = os.path.abspath(SRC_SUBDIR)\n",
    "if SRC_SUBDIR not in sys.path:\n",
    "    print(f'Adding source directory to the sys.path: {SRC_SUBDIR!r}')\n",
    "    sys.path.insert(1, SRC_SUBDIR)"
   ]
  },
  {
   "cell_type": "code",
   "execution_count": 35,
   "metadata": {},
   "outputs": [],
   "source": [
    "from meeting_transcript_summarization.src import sentiment, summarize, utils"
   ]
  },
  {
   "cell_type": "code",
   "execution_count": 36,
   "metadata": {},
   "outputs": [],
   "source": [
    "TRANSCRIPT_PATH = r\"../data/sample_transcript.txt\"\n",
    "SENTIMENT_MODEL_DIR       = r\"../models/distilbert-base-uncased-finetuned-sst-2-english\"\n",
    "\n",
    "transcript  = utils.read_transcript(TRANSCRIPT_PATH)\n",
    "sentiment_analyser  = sentiment.SentimentAnalyser(SENTIMENT_MODEL_DIR)\n",
    "\n",
    "THRESHOLD = 0.75\n",
    "\n",
    "SUMMARY_MODEL_DIR = r\"../models/bart-large-cnn\"\n",
    "summarizer = summarize.Summarizer(SUMMARY_MODEL_DIR)"
   ]
  },
  {
   "cell_type": "markdown",
   "metadata": {},
   "source": [
    "### demo for getting default model sentiments"
   ]
  },
  {
   "cell_type": "code",
   "execution_count": 37,
   "metadata": {},
   "outputs": [
    {
     "name": "stdout",
     "output_type": "stream",
     "text": [
      "[{'label': 'POSITIVE', 'score': 0.99642014503479, 'line': 'Date: June 14, 2024'}, {'label': 'POSITIVE', 'score': 0.7425976395606995, 'line': 'Time: 10:00 AM - 11:00 AM'}, {'label': 'POSITIVE', 'score': 0.996378481388092, 'line': 'Participants:'}, {'label': 'POSITIVE', 'score': 0.9286372661590576, 'line': ' • Alice (Product Manager)'}, {'label': 'POSITIVE', 'score': 0.9603667855262756, 'line': ' • Bob (Software Engineer)'}, {'label': 'POSITIVE', 'score': 0.9510928988456726, 'line': ' • Charlie (QA Lead)'}, {'label': 'POSITIVE', 'score': 0.9851651191711426, 'line': ' • David (Customer Support)'}, {'label': 'POSITIVE', 'score': 0.9650609493255615, 'line': ' • Emma (UI/UX Designer)'}, {'label': 'POSITIVE', 'score': 0.7481209635734558, 'line': ''}, {'label': 'POSITIVE', 'score': 0.9767270088195801, 'line': '10:00 AM - 10:05 AM: Introductions and Agenda Setting'}, {'label': 'NEGATIVE', 'score': 0.9954362511634827, 'line': \"Alice: Hey everyone, thanks for jumping on this call at such short notice. So, we've got a pretty pressing issue with the login functionality after the last update. I want us to go over what's happening, why it's happening, and how we can fix it quickly. Let’s start with a quick hello for anyone who’s new.\"}, {'label': 'POSITIVE', 'score': 0.9996896982192993, 'line': 'David: Hi all, I’m David from Customer Support. Nice to meet everyone!'}, {'label': 'POSITIVE', 'score': 0.9526506066322327, 'line': 'Charlie: Hey, Charlie here, QA Lead.'}, {'label': 'POSITIVE', 'score': 0.9969494938850403, 'line': \"Emma: Hi, I'm Emma, the UI/UX Designer.\"}, {'label': 'POSITIVE', 'score': 0.9947721362113953, 'line': 'Bob: And I’m Bob, the Software Engineer.'}, {'label': 'NEGATIVE', 'score': 0.7452141642570496, 'line': '10:05 AM - 10:15 AM: Issue Description'}, {'label': 'NEGATIVE', 'score': 0.9990682005882263, 'line': 'David: So, here\\'s the deal. We\\'ve been getting a lot of complaints from users who can\\'t log in. They keep seeing an \"Invalid credentials\" error even though they\\'re sure their details are right. This started right after our update last Friday.'}, {'label': 'POSITIVE', 'score': 0.997833788394928, 'line': 'Alice: Got it. Bob, have you had a chance to look into this?'}, {'label': 'NEGATIVE', 'score': 0.8486003279685974, 'line': '10:15 AM - 10:30 AM: Root Cause Analysis'}, {'label': 'NEGATIVE', 'score': 0.9987371563911438, 'line': \"Bob: Yeah, I did a bit of digging. It looks like the issue is with our authentication microservice. We updated how session tokens are handled, and I think there's a bug in the token validation part.\"}, {'label': 'NEGATIVE', 'score': 0.9997884631156921, 'line': 'Charlie: We ran our usual tests on the login, but it seems like we missed this specific case. Our tests didn’t cover the token validation for valid credentials failing.'}, {'label': 'NEGATIVE', 'score': 0.8772504329681396, 'line': '10:30 AM - 10:45 AM: Proposed Solutions'}, {'label': 'NEGATIVE', 'score': 0.9994039535522461, 'line': 'Emma: From a UX standpoint, we need to make sure that the error messages are helpful. But yeah, we probably need to rollback those changes or push a hotfix ASAP.'}, {'label': 'NEGATIVE', 'score': 0.7232189774513245, 'line': \"Bob: Agreed. I can rollback the changes and deploy the previous version today. Then we'll do a more thorough code review and add tests for this scenario.\"}, {'label': 'POSITIVE', 'score': 0.999433696269989, 'line': 'Alice: Sounds good. Charlie, can you make sure we get those new test cases added?'}, {'label': 'POSITIVE', 'score': 0.9997513890266418, 'line': 'Charlie: Absolutely, I’ll get on that.'}, {'label': 'POSITIVE', 'score': 0.9484342932701111, 'line': '10:45 AM - 11:00 AM: Action Items and Next Steps'}, {'label': 'POSITIVE', 'score': 0.9945481419563293, 'line': 'Alice: Alright, let’s sum up what needs to be done:'}, {'label': 'POSITIVE', 'score': 0.6580766439437866, 'line': ' • Bob: Rollback the changes and deploy the previous version by the end of the day.'}, {'label': 'NEGATIVE', 'score': 0.9743489027023315, 'line': ' • Charlie: Add test cases for token validation and run regression tests.'}, {'label': 'NEGATIVE', 'score': 0.9881449937820435, 'line': \" • David: Draft a communication plan for affected users, explaining what happened and how we're fixing it.\"}, {'label': 'POSITIVE', 'score': 0.980069637298584, 'line': ' • Emma: Improve the error message and provide clear guidance for users when they hit login issues.'}, {'label': 'NEGATIVE', 'score': 0.9973757266998291, 'line': 'Anything else?'}, {'label': 'NEGATIVE', 'score': 0.9958078861236572, 'line': 'All: Nope, that covers it.'}, {'label': 'POSITIVE', 'score': 0.9996755123138428, 'line': 'Alice: Great. Thanks, everyone. Let’s get to it\\xa0and\\xa0fix\\xa0this.'}]\n"
     ]
    }
   ],
   "source": [
    "sentiments     = sentiment_analyser.predict(transcript.split('\\n'))\n",
    "\n",
    "print(sentiments)"
   ]
  },
  {
   "cell_type": "markdown",
   "metadata": {},
   "source": [
    "### demo for getting sentiments using custom threshold"
   ]
  },
  {
   "cell_type": "code",
   "execution_count": 38,
   "metadata": {},
   "outputs": [
    {
     "name": "stdout",
     "output_type": "stream",
     "text": [
      "Positive sentiments: [{'label': 'POSITIVE', 'score': 0.99642014503479, 'line': 'Date: June 14, 2024'}, {'label': 'POSITIVE', 'score': 0.996378481388092, 'line': 'Participants:'}, {'label': 'POSITIVE', 'score': 0.9286372661590576, 'line': ' • Alice (Product Manager)'}, {'label': 'POSITIVE', 'score': 0.9603667855262756, 'line': ' • Bob (Software Engineer)'}, {'label': 'POSITIVE', 'score': 0.9510928988456726, 'line': ' • Charlie (QA Lead)'}, {'label': 'POSITIVE', 'score': 0.9851651191711426, 'line': ' • David (Customer Support)'}, {'label': 'POSITIVE', 'score': 0.9650609493255615, 'line': ' • Emma (UI/UX Designer)'}, {'label': 'POSITIVE', 'score': 0.9767270088195801, 'line': '10:00 AM - 10:05 AM: Introductions and Agenda Setting'}, {'label': 'POSITIVE', 'score': 0.9996896982192993, 'line': 'David: Hi all, I’m David from Customer Support. Nice to meet everyone!'}, {'label': 'POSITIVE', 'score': 0.9526506066322327, 'line': 'Charlie: Hey, Charlie here, QA Lead.'}, {'label': 'POSITIVE', 'score': 0.9969494938850403, 'line': \"Emma: Hi, I'm Emma, the UI/UX Designer.\"}, {'label': 'POSITIVE', 'score': 0.9947721362113953, 'line': 'Bob: And I’m Bob, the Software Engineer.'}, {'label': 'POSITIVE', 'score': 0.997833788394928, 'line': 'Alice: Got it. Bob, have you had a chance to look into this?'}, {'label': 'POSITIVE', 'score': 0.999433696269989, 'line': 'Alice: Sounds good. Charlie, can you make sure we get those new test cases added?'}, {'label': 'POSITIVE', 'score': 0.9997513890266418, 'line': 'Charlie: Absolutely, I’ll get on that.'}, {'label': 'POSITIVE', 'score': 0.9484342932701111, 'line': '10:45 AM - 11:00 AM: Action Items and Next Steps'}, {'label': 'POSITIVE', 'score': 0.9945481419563293, 'line': 'Alice: Alright, let’s sum up what needs to be done:'}, {'label': 'POSITIVE', 'score': 0.980069637298584, 'line': ' • Emma: Improve the error message and provide clear guidance for users when they hit login issues.'}, {'label': 'POSITIVE', 'score': 0.9996755123138428, 'line': 'Alice: Great. Thanks, everyone. Let’s get to it\\xa0and\\xa0fix\\xa0this.'}]\n",
      "Negative sentiments: [{'label': 'POSITIVE', 'score': 0.7425976395606995, 'line': 'Time: 10:00 AM - 11:00 AM'}, {'label': 'POSITIVE', 'score': 0.7481209635734558, 'line': ''}, {'label': 'NEGATIVE', 'score': 0.9954362511634827, 'line': \"Alice: Hey everyone, thanks for jumping on this call at such short notice. So, we've got a pretty pressing issue with the login functionality after the last update. I want us to go over what's happening, why it's happening, and how we can fix it quickly. Let’s start with a quick hello for anyone who’s new.\"}, {'label': 'NEGATIVE', 'score': 0.7452141642570496, 'line': '10:05 AM - 10:15 AM: Issue Description'}, {'label': 'NEGATIVE', 'score': 0.9990682005882263, 'line': 'David: So, here\\'s the deal. We\\'ve been getting a lot of complaints from users who can\\'t log in. They keep seeing an \"Invalid credentials\" error even though they\\'re sure their details are right. This started right after our update last Friday.'}, {'label': 'NEGATIVE', 'score': 0.8486003279685974, 'line': '10:15 AM - 10:30 AM: Root Cause Analysis'}, {'label': 'NEGATIVE', 'score': 0.9987371563911438, 'line': \"Bob: Yeah, I did a bit of digging. It looks like the issue is with our authentication microservice. We updated how session tokens are handled, and I think there's a bug in the token validation part.\"}, {'label': 'NEGATIVE', 'score': 0.9997884631156921, 'line': 'Charlie: We ran our usual tests on the login, but it seems like we missed this specific case. Our tests didn’t cover the token validation for valid credentials failing.'}, {'label': 'NEGATIVE', 'score': 0.8772504329681396, 'line': '10:30 AM - 10:45 AM: Proposed Solutions'}, {'label': 'NEGATIVE', 'score': 0.9994039535522461, 'line': 'Emma: From a UX standpoint, we need to make sure that the error messages are helpful. But yeah, we probably need to rollback those changes or push a hotfix ASAP.'}, {'label': 'NEGATIVE', 'score': 0.7232189774513245, 'line': \"Bob: Agreed. I can rollback the changes and deploy the previous version today. Then we'll do a more thorough code review and add tests for this scenario.\"}, {'label': 'POSITIVE', 'score': 0.6580766439437866, 'line': ' • Bob: Rollback the changes and deploy the previous version by the end of the day.'}, {'label': 'NEGATIVE', 'score': 0.9743489027023315, 'line': ' • Charlie: Add test cases for token validation and run regression tests.'}, {'label': 'NEGATIVE', 'score': 0.9881449937820435, 'line': \" • David: Draft a communication plan for affected users, explaining what happened and how we're fixing it.\"}, {'label': 'NEGATIVE', 'score': 0.9973757266998291, 'line': 'Anything else?'}, {'label': 'NEGATIVE', 'score': 0.9958078861236572, 'line': 'All: Nope, that covers it.'}]\n"
     ]
    }
   ],
   "source": [
    "positive_sentiments, negative_sentiments = sentiment_analyser.get_separated_sentiments(transcript.split('\\n'), THRESHOLD)\n",
    "\n",
    "print(f'Positive sentiments: {positive_sentiments}')\n",
    "print(f'Negative sentiments: {negative_sentiments}')"
   ]
  },
  {
   "cell_type": "markdown",
   "metadata": {},
   "source": [
    "### demo for getting summary for +/- ve sentiments from custom threshold"
   ]
  },
  {
   "cell_type": "code",
   "execution_count": 42,
   "metadata": {},
   "outputs": [
    {
     "name": "stdout",
     "output_type": "stream",
     "text": [
      "Positive summary: Date: June 14, 2024. Participants: Alice (Product Manager), Bob (Software Engineer), Charlie (QA Lead), David (Customer Support) and Emma (UI/UX Designer) Agenda Setting: Introductions and Agenda Setting. Action Items: Improve the error message and provide clear guidance for users when they hit login issues.\n",
      "Negative summary: Alice: We've been getting a lot of complaints from users who can't log in. This started right after our update last Friday. It looks like the issue is with our authentication microservice. We updated how session tokens are handled, and I think there's a bug in the token validation part.\n"
     ]
    }
   ],
   "source": [
    "positive_summary, negative_summary = sentiment_analyser.get_sentiment_summary(transcript.split('\\n'), THRESHOLD, summarizer)\n",
    "\n",
    "print(f'Positive summary: {positive_summary}')\n",
    "print(f'Negative summary: {negative_summary}')"
   ]
  },
  {
   "cell_type": "code",
   "execution_count": null,
   "metadata": {},
   "outputs": [],
   "source": []
  }
 ],
 "metadata": {
  "kernelspec": {
   "display_name": "vihave-summarizer",
   "language": "python",
   "name": "python3"
  },
  "language_info": {
   "codemirror_mode": {
    "name": "ipython",
    "version": 3
   },
   "file_extension": ".py",
   "mimetype": "text/x-python",
   "name": "python",
   "nbconvert_exporter": "python",
   "pygments_lexer": "ipython3",
   "version": "3.10.14"
  }
 },
 "nbformat": 4,
 "nbformat_minor": 2
}
