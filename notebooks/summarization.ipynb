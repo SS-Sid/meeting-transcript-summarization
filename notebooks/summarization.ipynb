{
 "cells": [
  {
   "cell_type": "code",
   "execution_count": 1,
   "metadata": {},
   "outputs": [
    {
     "name": "stdout",
     "output_type": "stream",
     "text": [
      "Adding source directory to the sys.path: 'd:\\\\Work\\\\Job_Hunt\\\\Vihave.ai\\\\meeting-transcript-summarization'\n"
     ]
    }
   ],
   "source": [
    "%reload_ext autoreload\n",
    "%autoreload 2\n",
    "\n",
    "import sys\n",
    "import os\n",
    "\n",
    "SRC_SUBDIR = '../'\n",
    "SRC_SUBDIR = os.path.abspath(SRC_SUBDIR)\n",
    "if SRC_SUBDIR not in sys.path:\n",
    "    print(f'Adding source directory to the sys.path: {SRC_SUBDIR!r}')\n",
    "    sys.path.insert(1, SRC_SUBDIR)"
   ]
  },
  {
   "cell_type": "code",
   "execution_count": 2,
   "metadata": {},
   "outputs": [
    {
     "name": "stdout",
     "output_type": "stream",
     "text": [
      "Looking in indexes: https://pypi.org/simple, https://download.pytorch.org/whl/cu118\n",
      "Requirement already satisfied: numpy==1.26.4 in c:\\users\\sonis\\anaconda3\\envs\\vihave-summarizer\\lib\\site-packages (from -r ../requirements.txt (line 1)) (1.26.4)\n",
      "Requirement already satisfied: torch==2.3.1 in c:\\users\\sonis\\anaconda3\\envs\\vihave-summarizer\\lib\\site-packages (from -r ../requirements.txt (line 4)) (2.3.1+cu118)\n",
      "Requirement already satisfied: transformers==4.41.2 in c:\\users\\sonis\\anaconda3\\envs\\vihave-summarizer\\lib\\site-packages (from -r ../requirements.txt (line 6)) (4.41.2)\n",
      "Requirement already satisfied: sentencepiece in c:\\users\\sonis\\anaconda3\\envs\\vihave-summarizer\\lib\\site-packages (from -r ../requirements.txt (line 9)) (0.2.0)\n",
      "Requirement already satisfied: protobuf in c:\\users\\sonis\\anaconda3\\envs\\vihave-summarizer\\lib\\site-packages (from -r ../requirements.txt (line 10)) (5.27.2)\n",
      "Requirement already satisfied: pandas in c:\\users\\sonis\\anaconda3\\envs\\vihave-summarizer\\lib\\site-packages (from -r ../requirements.txt (line 13)) (2.2.2)\n",
      "Requirement already satisfied: scikit-learn in c:\\users\\sonis\\anaconda3\\envs\\vihave-summarizer\\lib\\site-packages (from -r ../requirements.txt (line 14)) (1.5.1)\n",
      "Requirement already satisfied: pyarrow in c:\\users\\sonis\\anaconda3\\envs\\vihave-summarizer\\lib\\site-packages (from -r ../requirements.txt (line 15)) (16.1.0)\n",
      "Requirement already satisfied: datasets in c:\\users\\sonis\\anaconda3\\envs\\vihave-summarizer\\lib\\site-packages (from -r ../requirements.txt (line 16)) (2.20.0)\n",
      "Requirement already satisfied: accelerate>=0.21.0 in c:\\users\\sonis\\anaconda3\\envs\\vihave-summarizer\\lib\\site-packages (from -r ../requirements.txt (line 17)) (0.32.0)\n",
      "Requirement already satisfied: filelock in c:\\users\\sonis\\anaconda3\\envs\\vihave-summarizer\\lib\\site-packages (from torch==2.3.1->-r ../requirements.txt (line 4)) (3.15.4)\n",
      "Requirement already satisfied: typing-extensions>=4.8.0 in c:\\users\\sonis\\anaconda3\\envs\\vihave-summarizer\\lib\\site-packages (from torch==2.3.1->-r ../requirements.txt (line 4)) (4.12.2)\n",
      "Requirement already satisfied: sympy in c:\\users\\sonis\\anaconda3\\envs\\vihave-summarizer\\lib\\site-packages (from torch==2.3.1->-r ../requirements.txt (line 4)) (1.12.1)\n",
      "Requirement already satisfied: networkx in c:\\users\\sonis\\anaconda3\\envs\\vihave-summarizer\\lib\\site-packages (from torch==2.3.1->-r ../requirements.txt (line 4)) (3.3)\n",
      "Requirement already satisfied: jinja2 in c:\\users\\sonis\\anaconda3\\envs\\vihave-summarizer\\lib\\site-packages (from torch==2.3.1->-r ../requirements.txt (line 4)) (3.1.4)\n",
      "Requirement already satisfied: fsspec in c:\\users\\sonis\\anaconda3\\envs\\vihave-summarizer\\lib\\site-packages (from torch==2.3.1->-r ../requirements.txt (line 4)) (2024.5.0)\n",
      "Requirement already satisfied: mkl<=2021.4.0,>=2021.1.1 in c:\\users\\sonis\\anaconda3\\envs\\vihave-summarizer\\lib\\site-packages (from torch==2.3.1->-r ../requirements.txt (line 4)) (2021.4.0)\n",
      "Requirement already satisfied: huggingface-hub<1.0,>=0.23.0 in c:\\users\\sonis\\anaconda3\\envs\\vihave-summarizer\\lib\\site-packages (from transformers==4.41.2->-r ../requirements.txt (line 6)) (0.23.4)\n",
      "Requirement already satisfied: packaging>=20.0 in c:\\users\\sonis\\anaconda3\\envs\\vihave-summarizer\\lib\\site-packages (from transformers==4.41.2->-r ../requirements.txt (line 6)) (24.1)\n",
      "Requirement already satisfied: pyyaml>=5.1 in c:\\users\\sonis\\anaconda3\\envs\\vihave-summarizer\\lib\\site-packages (from transformers==4.41.2->-r ../requirements.txt (line 6)) (6.0.1)\n",
      "Requirement already satisfied: regex!=2019.12.17 in c:\\users\\sonis\\anaconda3\\envs\\vihave-summarizer\\lib\\site-packages (from transformers==4.41.2->-r ../requirements.txt (line 6)) (2024.5.15)\n",
      "Requirement already satisfied: requests in c:\\users\\sonis\\anaconda3\\envs\\vihave-summarizer\\lib\\site-packages (from transformers==4.41.2->-r ../requirements.txt (line 6)) (2.32.3)\n",
      "Requirement already satisfied: tokenizers<0.20,>=0.19 in c:\\users\\sonis\\anaconda3\\envs\\vihave-summarizer\\lib\\site-packages (from transformers==4.41.2->-r ../requirements.txt (line 6)) (0.19.1)\n",
      "Requirement already satisfied: safetensors>=0.4.1 in c:\\users\\sonis\\anaconda3\\envs\\vihave-summarizer\\lib\\site-packages (from transformers==4.41.2->-r ../requirements.txt (line 6)) (0.4.3)\n",
      "Requirement already satisfied: tqdm>=4.27 in c:\\users\\sonis\\anaconda3\\envs\\vihave-summarizer\\lib\\site-packages (from transformers==4.41.2->-r ../requirements.txt (line 6)) (4.66.4)\n",
      "Requirement already satisfied: python-dateutil>=2.8.2 in c:\\users\\sonis\\anaconda3\\envs\\vihave-summarizer\\lib\\site-packages (from pandas->-r ../requirements.txt (line 13)) (2.9.0)\n",
      "Requirement already satisfied: pytz>=2020.1 in c:\\users\\sonis\\anaconda3\\envs\\vihave-summarizer\\lib\\site-packages (from pandas->-r ../requirements.txt (line 13)) (2024.1)\n",
      "Requirement already satisfied: tzdata>=2022.7 in c:\\users\\sonis\\anaconda3\\envs\\vihave-summarizer\\lib\\site-packages (from pandas->-r ../requirements.txt (line 13)) (2024.1)\n",
      "Requirement already satisfied: scipy>=1.6.0 in c:\\users\\sonis\\anaconda3\\envs\\vihave-summarizer\\lib\\site-packages (from scikit-learn->-r ../requirements.txt (line 14)) (1.14.0)\n",
      "Requirement already satisfied: joblib>=1.2.0 in c:\\users\\sonis\\anaconda3\\envs\\vihave-summarizer\\lib\\site-packages (from scikit-learn->-r ../requirements.txt (line 14)) (1.4.2)\n",
      "Requirement already satisfied: threadpoolctl>=3.1.0 in c:\\users\\sonis\\anaconda3\\envs\\vihave-summarizer\\lib\\site-packages (from scikit-learn->-r ../requirements.txt (line 14)) (3.5.0)\n",
      "Requirement already satisfied: pyarrow-hotfix in c:\\users\\sonis\\anaconda3\\envs\\vihave-summarizer\\lib\\site-packages (from datasets->-r ../requirements.txt (line 16)) (0.6)\n",
      "Requirement already satisfied: dill<0.3.9,>=0.3.0 in c:\\users\\sonis\\anaconda3\\envs\\vihave-summarizer\\lib\\site-packages (from datasets->-r ../requirements.txt (line 16)) (0.3.8)\n",
      "Requirement already satisfied: xxhash in c:\\users\\sonis\\anaconda3\\envs\\vihave-summarizer\\lib\\site-packages (from datasets->-r ../requirements.txt (line 16)) (3.4.1)\n",
      "Requirement already satisfied: multiprocess in c:\\users\\sonis\\anaconda3\\envs\\vihave-summarizer\\lib\\site-packages (from datasets->-r ../requirements.txt (line 16)) (0.70.16)\n",
      "Requirement already satisfied: aiohttp in c:\\users\\sonis\\anaconda3\\envs\\vihave-summarizer\\lib\\site-packages (from datasets->-r ../requirements.txt (line 16)) (3.9.5)\n",
      "Requirement already satisfied: psutil in c:\\users\\sonis\\anaconda3\\envs\\vihave-summarizer\\lib\\site-packages (from accelerate>=0.21.0->-r ../requirements.txt (line 17)) (5.9.0)\n",
      "Requirement already satisfied: aiosignal>=1.1.2 in c:\\users\\sonis\\anaconda3\\envs\\vihave-summarizer\\lib\\site-packages (from aiohttp->datasets->-r ../requirements.txt (line 16)) (1.3.1)\n",
      "Requirement already satisfied: attrs>=17.3.0 in c:\\users\\sonis\\anaconda3\\envs\\vihave-summarizer\\lib\\site-packages (from aiohttp->datasets->-r ../requirements.txt (line 16)) (23.2.0)\n",
      "Requirement already satisfied: frozenlist>=1.1.1 in c:\\users\\sonis\\anaconda3\\envs\\vihave-summarizer\\lib\\site-packages (from aiohttp->datasets->-r ../requirements.txt (line 16)) (1.4.1)\n",
      "Requirement already satisfied: multidict<7.0,>=4.5 in c:\\users\\sonis\\anaconda3\\envs\\vihave-summarizer\\lib\\site-packages (from aiohttp->datasets->-r ../requirements.txt (line 16)) (6.0.5)\n",
      "Requirement already satisfied: yarl<2.0,>=1.0 in c:\\users\\sonis\\anaconda3\\envs\\vihave-summarizer\\lib\\site-packages (from aiohttp->datasets->-r ../requirements.txt (line 16)) (1.9.4)\n",
      "Requirement already satisfied: async-timeout<5.0,>=4.0 in c:\\users\\sonis\\anaconda3\\envs\\vihave-summarizer\\lib\\site-packages (from aiohttp->datasets->-r ../requirements.txt (line 16)) (4.0.3)\n",
      "Requirement already satisfied: intel-openmp==2021.* in c:\\users\\sonis\\anaconda3\\envs\\vihave-summarizer\\lib\\site-packages (from mkl<=2021.4.0,>=2021.1.1->torch==2.3.1->-r ../requirements.txt (line 4)) (2021.4.0)\n",
      "Requirement already satisfied: tbb==2021.* in c:\\users\\sonis\\anaconda3\\envs\\vihave-summarizer\\lib\\site-packages (from mkl<=2021.4.0,>=2021.1.1->torch==2.3.1->-r ../requirements.txt (line 4)) (2021.13.0)\n",
      "Requirement already satisfied: six>=1.5 in c:\\users\\sonis\\anaconda3\\envs\\vihave-summarizer\\lib\\site-packages (from python-dateutil>=2.8.2->pandas->-r ../requirements.txt (line 13)) (1.16.0)\n",
      "Requirement already satisfied: charset-normalizer<4,>=2 in c:\\users\\sonis\\anaconda3\\envs\\vihave-summarizer\\lib\\site-packages (from requests->transformers==4.41.2->-r ../requirements.txt (line 6)) (3.3.2)\n",
      "Requirement already satisfied: idna<4,>=2.5 in c:\\users\\sonis\\anaconda3\\envs\\vihave-summarizer\\lib\\site-packages (from requests->transformers==4.41.2->-r ../requirements.txt (line 6)) (3.7)\n",
      "Requirement already satisfied: urllib3<3,>=1.21.1 in c:\\users\\sonis\\anaconda3\\envs\\vihave-summarizer\\lib\\site-packages (from requests->transformers==4.41.2->-r ../requirements.txt (line 6)) (2.2.2)\n",
      "Requirement already satisfied: certifi>=2017.4.17 in c:\\users\\sonis\\anaconda3\\envs\\vihave-summarizer\\lib\\site-packages (from requests->transformers==4.41.2->-r ../requirements.txt (line 6)) (2024.6.2)\n",
      "Requirement already satisfied: colorama in c:\\users\\sonis\\anaconda3\\envs\\vihave-summarizer\\lib\\site-packages (from tqdm>=4.27->transformers==4.41.2->-r ../requirements.txt (line 6)) (0.4.6)\n",
      "Requirement already satisfied: MarkupSafe>=2.0 in c:\\users\\sonis\\anaconda3\\envs\\vihave-summarizer\\lib\\site-packages (from jinja2->torch==2.3.1->-r ../requirements.txt (line 4)) (2.1.5)\n",
      "Requirement already satisfied: mpmath<1.4.0,>=1.1.0 in c:\\users\\sonis\\anaconda3\\envs\\vihave-summarizer\\lib\\site-packages (from sympy->torch==2.3.1->-r ../requirements.txt (line 4)) (1.3.0)\n",
      "Note: you may need to restart the kernel to use updated packages.\n"
     ]
    }
   ],
   "source": [
    "%pip install -r ../requirements.txt"
   ]
  },
  {
   "cell_type": "code",
   "execution_count": 3,
   "metadata": {},
   "outputs": [
    {
     "name": "stderr",
     "output_type": "stream",
     "text": [
      "c:\\Users\\sonis\\anaconda3\\envs\\vihave-summarizer\\lib\\site-packages\\tqdm\\auto.py:21: TqdmWarning: IProgress not found. Please update jupyter and ipywidgets. See https://ipywidgets.readthedocs.io/en/stable/user_install.html\n",
      "  from .autonotebook import tqdm as notebook_tqdm\n"
     ]
    }
   ],
   "source": [
    "from meeting_transcript_summarization.src import summarize, utils"
   ]
  },
  {
   "cell_type": "code",
   "execution_count": 4,
   "metadata": {},
   "outputs": [
    {
     "name": "stdout",
     "output_type": "stream",
     "text": [
      "Alice, Bob, Charlie, Bob and Charlie will roll back or push a hotfix by the end of the day and deploy the previous version today. Emma and David will draft a communication plan for affected users, explaining what happened and how they're fixing it.\n"
     ]
    }
   ],
   "source": [
    "TRANSCRIPT_PATH = r\"../data/sample_transcript.txt\"\n",
    "MODEL_DIR       = r\"../models/meeting-summary-samsum\"\n",
    "\n",
    "transcript  = utils.read_transcript(TRANSCRIPT_PATH)\n",
    "summarizer  = summarize.Summarizer(MODEL_DIR)\n",
    "summary     = summarizer.summarize(transcript)\n",
    "\n",
    "print(summary)"
   ]
  },
  {
   "cell_type": "code",
   "execution_count": null,
   "metadata": {},
   "outputs": [],
   "source": []
  }
 ],
 "metadata": {
  "kernelspec": {
   "display_name": "Python 3",
   "language": "python",
   "name": "python3"
  },
  "language_info": {
   "codemirror_mode": {
    "name": "ipython",
    "version": 3
   },
   "file_extension": ".py",
   "mimetype": "text/x-python",
   "name": "python",
   "nbconvert_exporter": "python",
   "pygments_lexer": "ipython3",
   "version": "3.10.14"
  }
 },
 "nbformat": 4,
 "nbformat_minor": 2
}
