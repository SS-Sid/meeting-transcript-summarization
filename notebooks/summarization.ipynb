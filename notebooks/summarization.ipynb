{
 "cells": [
  {
   "cell_type": "code",
   "execution_count": 5,
   "metadata": {},
   "outputs": [],
   "source": [
    "%reload_ext autoreload\n",
    "%autoreload 2\n",
    "\n",
    "import sys\n",
    "import os\n",
    "\n",
    "SRC_SUBDIR = '../'\n",
    "SRC_SUBDIR = os.path.abspath(SRC_SUBDIR)\n",
    "if SRC_SUBDIR not in sys.path:\n",
    "    print(f'Adding source directory to the sys.path: {SRC_SUBDIR!r}')\n",
    "    sys.path.insert(1, SRC_SUBDIR)"
   ]
  },
  {
   "cell_type": "code",
   "execution_count": 6,
   "metadata": {},
   "outputs": [
    {
     "name": "stdout",
     "output_type": "stream",
     "text": [
      "Looking in indexes: https://pypi.org/simple, https://download.pytorch.org/whl/cu118Note: you may need to restart the kernel to use updated packages.\n",
      "\n",
      "Requirement already satisfied: numpy==1.26.4 in c:\\users\\sonis\\anaconda3\\envs\\vihave-summarizer\\lib\\site-packages (from -r ../requirements.txt (line 1)) (1.26.4)\n",
      "Requirement already satisfied: torch==2.3.1 in c:\\users\\sonis\\anaconda3\\envs\\vihave-summarizer\\lib\\site-packages (from -r ../requirements.txt (line 4)) (2.3.1+cu118)\n",
      "Requirement already satisfied: transformers==4.41.2 in c:\\users\\sonis\\anaconda3\\envs\\vihave-summarizer\\lib\\site-packages (from -r ../requirements.txt (line 6)) (4.41.2)\n",
      "Requirement already satisfied: filelock in c:\\users\\sonis\\anaconda3\\envs\\vihave-summarizer\\lib\\site-packages (from torch==2.3.1->-r ../requirements.txt (line 4)) (3.15.4)\n",
      "Requirement already satisfied: typing-extensions>=4.8.0 in c:\\users\\sonis\\anaconda3\\envs\\vihave-summarizer\\lib\\site-packages (from torch==2.3.1->-r ../requirements.txt (line 4)) (4.12.2)\n",
      "Requirement already satisfied: sympy in c:\\users\\sonis\\anaconda3\\envs\\vihave-summarizer\\lib\\site-packages (from torch==2.3.1->-r ../requirements.txt (line 4)) (1.12.1)\n",
      "Requirement already satisfied: networkx in c:\\users\\sonis\\anaconda3\\envs\\vihave-summarizer\\lib\\site-packages (from torch==2.3.1->-r ../requirements.txt (line 4)) (3.3)\n",
      "Requirement already satisfied: jinja2 in c:\\users\\sonis\\anaconda3\\envs\\vihave-summarizer\\lib\\site-packages (from torch==2.3.1->-r ../requirements.txt (line 4)) (3.1.4)\n",
      "Requirement already satisfied: fsspec in c:\\users\\sonis\\anaconda3\\envs\\vihave-summarizer\\lib\\site-packages (from torch==2.3.1->-r ../requirements.txt (line 4)) (2024.6.1)\n",
      "Requirement already satisfied: mkl<=2021.4.0,>=2021.1.1 in c:\\users\\sonis\\anaconda3\\envs\\vihave-summarizer\\lib\\site-packages (from torch==2.3.1->-r ../requirements.txt (line 4)) (2021.4.0)\n",
      "Requirement already satisfied: huggingface-hub<1.0,>=0.23.0 in c:\\users\\sonis\\anaconda3\\envs\\vihave-summarizer\\lib\\site-packages (from transformers==4.41.2->-r ../requirements.txt (line 6)) (0.23.4)\n",
      "Requirement already satisfied: packaging>=20.0 in c:\\users\\sonis\\anaconda3\\envs\\vihave-summarizer\\lib\\site-packages (from transformers==4.41.2->-r ../requirements.txt (line 6)) (24.1)\n",
      "Requirement already satisfied: pyyaml>=5.1 in c:\\users\\sonis\\anaconda3\\envs\\vihave-summarizer\\lib\\site-packages (from transformers==4.41.2->-r ../requirements.txt (line 6)) (6.0.1)\n",
      "Requirement already satisfied: regex!=2019.12.17 in c:\\users\\sonis\\anaconda3\\envs\\vihave-summarizer\\lib\\site-packages (from transformers==4.41.2->-r ../requirements.txt (line 6)) (2024.5.15)\n",
      "Requirement already satisfied: requests in c:\\users\\sonis\\anaconda3\\envs\\vihave-summarizer\\lib\\site-packages (from transformers==4.41.2->-r ../requirements.txt (line 6)) (2.32.3)\n",
      "Requirement already satisfied: tokenizers<0.20,>=0.19 in c:\\users\\sonis\\anaconda3\\envs\\vihave-summarizer\\lib\\site-packages (from transformers==4.41.2->-r ../requirements.txt (line 6)) (0.19.1)\n",
      "Requirement already satisfied: safetensors>=0.4.1 in c:\\users\\sonis\\anaconda3\\envs\\vihave-summarizer\\lib\\site-packages (from transformers==4.41.2->-r ../requirements.txt (line 6)) (0.4.3)\n",
      "Requirement already satisfied: tqdm>=4.27 in c:\\users\\sonis\\anaconda3\\envs\\vihave-summarizer\\lib\\site-packages (from transformers==4.41.2->-r ../requirements.txt (line 6)) (4.66.4)\n",
      "Requirement already satisfied: intel-openmp==2021.* in c:\\users\\sonis\\anaconda3\\envs\\vihave-summarizer\\lib\\site-packages (from mkl<=2021.4.0,>=2021.1.1->torch==2.3.1->-r ../requirements.txt (line 4)) (2021.4.0)\n",
      "Requirement already satisfied: tbb==2021.* in c:\\users\\sonis\\anaconda3\\envs\\vihave-summarizer\\lib\\site-packages (from mkl<=2021.4.0,>=2021.1.1->torch==2.3.1->-r ../requirements.txt (line 4)) (2021.13.0)\n",
      "Requirement already satisfied: colorama in c:\\users\\sonis\\anaconda3\\envs\\vihave-summarizer\\lib\\site-packages (from tqdm>=4.27->transformers==4.41.2->-r ../requirements.txt (line 6)) (0.4.6)\n",
      "Requirement already satisfied: MarkupSafe>=2.0 in c:\\users\\sonis\\anaconda3\\envs\\vihave-summarizer\\lib\\site-packages (from jinja2->torch==2.3.1->-r ../requirements.txt (line 4)) (2.1.5)\n",
      "Requirement already satisfied: charset-normalizer<4,>=2 in c:\\users\\sonis\\anaconda3\\envs\\vihave-summarizer\\lib\\site-packages (from requests->transformers==4.41.2->-r ../requirements.txt (line 6)) (3.3.2)\n",
      "Requirement already satisfied: idna<4,>=2.5 in c:\\users\\sonis\\anaconda3\\envs\\vihave-summarizer\\lib\\site-packages (from requests->transformers==4.41.2->-r ../requirements.txt (line 6)) (3.7)\n",
      "Requirement already satisfied: urllib3<3,>=1.21.1 in c:\\users\\sonis\\anaconda3\\envs\\vihave-summarizer\\lib\\site-packages (from requests->transformers==4.41.2->-r ../requirements.txt (line 6)) (2.2.2)\n",
      "Requirement already satisfied: certifi>=2017.4.17 in c:\\users\\sonis\\anaconda3\\envs\\vihave-summarizer\\lib\\site-packages (from requests->transformers==4.41.2->-r ../requirements.txt (line 6)) (2024.6.2)\n",
      "Requirement already satisfied: mpmath<1.4.0,>=1.1.0 in c:\\users\\sonis\\anaconda3\\envs\\vihave-summarizer\\lib\\site-packages (from sympy->torch==2.3.1->-r ../requirements.txt (line 4)) (1.3.0)\n"
     ]
    }
   ],
   "source": [
    "%pip install -r ../requirements.txt"
   ]
  },
  {
   "cell_type": "code",
   "execution_count": 7,
   "metadata": {},
   "outputs": [],
   "source": [
    "from meeting_transcript_summarization.src import summarize, utils"
   ]
  },
  {
   "cell_type": "code",
   "execution_count": 8,
   "metadata": {},
   "outputs": [
    {
     "name": "stdout",
     "output_type": "stream",
     "text": [
      "An issue with login functionality is causing users to see an \"Invalid credentials\" error. The issue is with the authentication microservice. The solution is to rollback the changes and deploy the previous version. Draft a communication plan for affected users, explaining what happened and how we're fixing it.\n"
     ]
    }
   ],
   "source": [
    "TRANSCRIPT_PATH = r\"../data/sample_transcript.txt\"\n",
    "MODEL_DIR       = r\"../models/bart-large-cnn\"\n",
    "\n",
    "transcript  = utils.read_transcript(TRANSCRIPT_PATH)\n",
    "summarizer  = summarize.Summarizer(MODEL_DIR)\n",
    "summary     = summarizer.summarize(transcript)\n",
    "\n",
    "print(summary)"
   ]
  }
 ],
 "metadata": {
  "kernelspec": {
   "display_name": "Python 3",
   "language": "python",
   "name": "python3"
  },
  "language_info": {
   "codemirror_mode": {
    "name": "ipython",
    "version": 3
   },
   "file_extension": ".py",
   "mimetype": "text/x-python",
   "name": "python",
   "nbconvert_exporter": "python",
   "pygments_lexer": "ipython3",
   "version": "3.10.14"
  }
 },
 "nbformat": 4,
 "nbformat_minor": 2
}
